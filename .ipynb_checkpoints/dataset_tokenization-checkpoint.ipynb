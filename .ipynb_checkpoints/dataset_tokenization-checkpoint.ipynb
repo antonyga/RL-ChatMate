{
 "cells": [
  {
   "cell_type": "code",
   "execution_count": 58,
   "id": "c3b8a26f",
   "metadata": {},
   "outputs": [],
   "source": [
    "# Import required libraries\n",
    "import json\n",
    "from nltk.tokenize import word_tokenize"
   ]
  },
  {
   "cell_type": "code",
   "execution_count": 59,
   "id": "e2bf7942",
   "metadata": {},
   "outputs": [],
   "source": [
    "# Open the JSON file containing the source dataset. See that the format is 'jsonl' which means that the elements are separated by lines\n",
    "with open('CommonsenseQA_DataSet.jsonl', 'r', encoding='utf-8') as f:\n",
    "    data = [json.loads(line) for line in f]"
   ]
  },
  {
   "cell_type": "code",
   "execution_count": 60,
   "id": "392670be",
   "metadata": {},
   "outputs": [],
   "source": [
    "# Create a list to store the tokenized data\n",
    "tokenized_data = []"
   ]
  },
  {
   "cell_type": "code",
   "execution_count": 61,
   "id": "d16452c9",
   "metadata": {},
   "outputs": [],
   "source": [
    "# Iterate over the data\n",
    "for item in data:\n",
    "    question = item['question']['stem']\n",
    "    choices = [choice['text'] for choice in item['question']['choices']]\n",
    "    answer_key = item['answerKey']\n",
    "    answer = [choice['text'] for choice in item['question']['choices'] if choice['label'] == answer_key][0]\n",
    "\n",
    "    # Tokenize the question and choices\n",
    "    tokenized_question = word_tokenize(question)\n",
    "    tokenized_choices = [word_tokenize(choice) for choice in choices]\n",
    "\n",
    "    # Create a dictionary for the tokenized data\n",
    "    tokenized_item = {\n",
    "        'question': ' '.join(tokenized_question),\n",
    "        'choices': '|'.join([' '.join(choice) for choice in tokenized_choices]),\n",
    "        'answer': answer\n",
    "    }\n",
    "\n",
    "    # Append the tokenized data to the list\n",
    "    tokenized_data.append(tokenized_item)"
   ]
  },
  {
   "cell_type": "code",
   "execution_count": 62,
   "id": "07e465d5",
   "metadata": {},
   "outputs": [],
   "source": [
    "# Write the tokenized data to a JSON file\n",
    "with open('tokenized_data.json', 'w', encoding='utf-8') as jsonfile:\n",
    "    json.dump(tokenized_data, jsonfile, indent=4)"
   ]
  }
 ],
 "metadata": {
  "kernelspec": {
   "display_name": "Python 3 (ipykernel)",
   "language": "python",
   "name": "python3"
  },
  "language_info": {
   "codemirror_mode": {
    "name": "ipython",
    "version": 3
   },
   "file_extension": ".py",
   "mimetype": "text/x-python",
   "name": "python",
   "nbconvert_exporter": "python",
   "pygments_lexer": "ipython3",
   "version": "3.11.5"
  }
 },
 "nbformat": 4,
 "nbformat_minor": 5
}
