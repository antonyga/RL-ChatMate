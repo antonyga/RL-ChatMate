{
 "cells": [
  {
   "cell_type": "code",
   "execution_count": 55,
   "id": "2b47f852",
   "metadata": {},
   "outputs": [],
   "source": [
    "# Import required libraries\n",
    "import json\n",
    "import csv\n",
    "from nltk.tokenize import word_tokenize"
   ]
  },
  {
   "cell_type": "code",
   "execution_count": 56,
   "id": "86bf0ddb",
   "metadata": {},
   "outputs": [],
   "source": [
    "# Open the JSON file containing the source dataset. See that the format is 'jsonl' which means that the elements are separated by lines\n",
    "with open('CommonsenseQA_DataSet.jsonl', 'r', encoding='utf-8') as f:\n",
    "    data = [json.loads(line) for line in f]"
   ]
  },
  {
   "cell_type": "code",
   "execution_count": null,
   "id": "967782ef",
   "metadata": {},
   "outputs": [],
   "source": [
    "# Create a CSV file for writing\n",
    "with open('tokenized_data.csv', 'w', newline='', encoding='utf-8') as csvfile:\n",
    "    writer = csv.writer(csvfile)\n",
    "    writer.writerow(['question', 'choices', 'answer'])  # Write the header row"
   ]
  },
  {
   "cell_type": "code",
   "execution_count": 57,
   "id": "2d452cd5",
   "metadata": {},
   "outputs": [],
   "source": [
    "# Iterate over the data\n",
    "for item in data:\n",
    "    question = item['question']['stem']\n",
    "    choices = [choice['text'] for choice in item['question']['choices']]\n",
    "    answer_key = item['answerKey']\n",
    "    answer = [choice['text'] for choice in item['question']['choices'] if choice['label'] == answer_key][0]\n",
    "    \n",
    "    # Tokenize the question and choices\n",
    "    tokenized_question = word_tokenize(question)\n",
    "    tokenized_choices = [word_tokenize(choice) for choice in choices]\n",
    "    \n",
    "    # Write the tokenized data to the CSV file\n",
    "    writer.writerow([' '.join(tokenized_question), '|'.join([' '.join(choice) for choice in tokenized_choices]), answer])"
   ]
  },
  {
   "cell_type": "code",
   "execution_count": null,
   "id": "1d90694c",
   "metadata": {},
   "outputs": [],
   "source": [
    "# Close the CSV file\n",
    "csvfile.close()"
   ]
  }
 ],
 "metadata": {
  "kernelspec": {
   "display_name": "Python 3 (ipykernel)",
   "language": "python",
   "name": "python3"
  },
  "language_info": {
   "codemirror_mode": {
    "name": "ipython",
    "version": 3
   },
   "file_extension": ".py",
   "mimetype": "text/x-python",
   "name": "python",
   "nbconvert_exporter": "python",
   "pygments_lexer": "ipython3",
   "version": "3.11.5"
  }
 },
 "nbformat": 4,
 "nbformat_minor": 5
}
